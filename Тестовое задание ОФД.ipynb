{
 "cells": [
  {
   "cell_type": "markdown",
   "id": "21a6dc35",
   "metadata": {
    "toc": true
   },
   "source": [
    "<h1>Table of Contents<span class=\"tocSkip\"></span></h1>\n",
    "<div class=\"toc\"><ul class=\"toc-item\"><li><span><a href=\"#Тестовое-задание-для-ОФД,-младший-аналитик-бренд-серч\" data-toc-modified-id=\"Тестовое-задание-для-ОФД,-младший-аналитик-бренд-серч-1\"><span class=\"toc-item-num\">1&nbsp;&nbsp;</span>Тестовое задание для ОФД, младший аналитик бренд серч</a></span><ul class=\"toc-item\"><li><span><a href=\"#Цель-и-примерный-план\" data-toc-modified-id=\"Цель-и-примерный-план-1.1\"><span class=\"toc-item-num\">1.1&nbsp;&nbsp;</span>Цель и примерный план</a></span></li><li><span><a href=\"#Подготовим-данные-и-окружение\" data-toc-modified-id=\"Подготовим-данные-и-окружение-1.2\"><span class=\"toc-item-num\">1.2&nbsp;&nbsp;</span>Подготовим данные и окружение</a></span><ul class=\"toc-item\"><li><span><a href=\"#Установим-и-импортируем-библиотеки\" data-toc-modified-id=\"Установим-и-импортируем-библиотеки-1.2.1\"><span class=\"toc-item-num\">1.2.1&nbsp;&nbsp;</span>Установим и импортируем библиотеки</a></span></li></ul></li><li><span><a href=\"#Изучим-данные\" data-toc-modified-id=\"Изучим-данные-1.3\"><span class=\"toc-item-num\">1.3&nbsp;&nbsp;</span>Изучим данные</a></span></li><li><span><a href=\"#Скорректируем-датафрейм-для-удобства\" data-toc-modified-id=\"Скорректируем-датафрейм-для-удобства-1.4\"><span class=\"toc-item-num\">1.4&nbsp;&nbsp;</span>Скорректируем датафрейм для удобства</a></span></li><li><span><a href=\"#Изучим-функции-библиотеки-thefuzz\" data-toc-modified-id=\"Изучим-функции-библиотеки-thefuzz-1.5\"><span class=\"toc-item-num\">1.5&nbsp;&nbsp;</span>Изучим функции библиотеки thefuzz</a></span><ul class=\"toc-item\"><li><span><a href=\"#Наблюдение-для-слова-&quot;молоко&quot;\" data-toc-modified-id=\"Наблюдение-для-слова-&quot;молоко&quot;-1.5.1\"><span class=\"toc-item-num\">1.5.1&nbsp;&nbsp;</span>Наблюдение для слова \"молоко\"</a></span></li><li><span><a href=\"#Наблюдение-для-словосочетания-&quot;домик-в-деревне&quot;\" data-toc-modified-id=\"Наблюдение-для-словосочетания-&quot;домик-в-деревне&quot;-1.5.2\"><span class=\"toc-item-num\">1.5.2&nbsp;&nbsp;</span>Наблюдение для словосочетания \"домик в деревне\"</a></span></li></ul></li><li><span><a href=\"#Попробуем-создать-некие-функции-для-нахождения-вариаций-слова-&quot;молоко&quot;\" data-toc-modified-id=\"Попробуем-создать-некие-функции-для-нахождения-вариаций-слова-&quot;молоко&quot;-1.6\"><span class=\"toc-item-num\">1.6&nbsp;&nbsp;</span>Попробуем создать некие функции для нахождения вариаций слова \"молоко\"</a></span><ul class=\"toc-item\"><li><span><a href=\"#Наблюдение-о-работе-функций\" data-toc-modified-id=\"Наблюдение-о-работе-функций-1.6.1\"><span class=\"toc-item-num\">1.6.1&nbsp;&nbsp;</span>Наблюдение о работе функций</a></span></li></ul></li><li><span><a href=\"#Добавим-вручную-некоторые-вариации-&quot;домик-в-деревне&quot;\" data-toc-modified-id=\"Добавим-вручную-некоторые-вариации-&quot;домик-в-деревне&quot;-1.7\"><span class=\"toc-item-num\">1.7&nbsp;&nbsp;</span>Добавим вручную некоторые вариации \"домик в деревне\"</a></span></li><li><span><a href=\"#Попробуем-создать-некие-функции-для-нахождения-вариаций-&quot;домик-в-деревне&quot;\" data-toc-modified-id=\"Попробуем-создать-некие-функции-для-нахождения-вариаций-&quot;домик-в-деревне&quot;-1.8\"><span class=\"toc-item-num\">1.8&nbsp;&nbsp;</span>Попробуем создать некие функции для нахождения вариаций \"домик в деревне\"</a></span><ul class=\"toc-item\"><li><span><a href=\"#Изучим-полученный-результат-от-работы-функций\" data-toc-modified-id=\"Изучим-полученный-результат-от-работы-функций-1.8.1\"><span class=\"toc-item-num\">1.8.1&nbsp;&nbsp;</span>Изучим полученный результат от работы функций</a></span></li></ul></li><li><span><a href=\"#Общие-результаты\" data-toc-modified-id=\"Общие-результаты-1.9\"><span class=\"toc-item-num\">1.9&nbsp;&nbsp;</span>Общие результаты</a></span></li></ul></li></ul></div>"
   ]
  },
  {
   "cell_type": "markdown",
   "id": "21b54496",
   "metadata": {},
   "source": [
    "## Тестовое задание для ОФД, младший аналитик бренд серч"
   ]
  },
  {
   "cell_type": "markdown",
   "id": "e3e4deda",
   "metadata": {},
   "source": [
    "### Цель и примерный план\n",
    "**Цель**\n",
    "Найти всё молоко бренда «Домик в деревне» для этого заполнить колонку «check», в ней проставить значения 1 или 0, где 1 — соответствует искомому бренду, 0 — не соответствует. \n",
    "При этом бренд может быть написан по-разному (возможны сокращения и орфографические ошибки), так же могут попадаться товары, не относящиеся к категории молоко. \n",
    "\n",
    "**План**\n",
    "1. Познакомиться с таблицей \n",
    "2. Скорректировать таблицу для удобства\n",
    "3. Познакомиться с библиотекой для сопоставления слов\n",
    "4. Отметить все строки, где есть слово \"молоко\" или достаточно похожие на него вариации, иначе отметить этим строкам в столбце check нули\n",
    "5. Среди этих строк найти те, где есть вариации \"домик в деревне\" и отметить этим строкам в столбце check единицы, остальным проставить нули\n",
    "6. Просмотреть соотношение в столбце check\n",
    "7. Перевести таблицу в эксель для возможной дальнейшей работы"
   ]
  },
  {
   "cell_type": "markdown",
   "id": "3fb7e739",
   "metadata": {},
   "source": [
    "### Подготовим данные и окружение"
   ]
  },
  {
   "cell_type": "markdown",
   "id": "7cffecfb",
   "metadata": {},
   "source": [
    "#### Установим и импортируем библиотеки"
   ]
  },
  {
   "cell_type": "code",
   "execution_count": 1,
   "id": "c51e3615",
   "metadata": {},
   "outputs": [],
   "source": [
    "# при отсутствии установим библиотеку для неполного сопоставления строк\n",
    "#pip install thefuzz"
   ]
  },
  {
   "cell_type": "code",
   "execution_count": 2,
   "id": "57f2ae45",
   "metadata": {},
   "outputs": [],
   "source": [
    "# импортируем нужные функции из thefuzz\n",
    "from thefuzz import fuzz\n",
    "from thefuzz import process"
   ]
  },
  {
   "cell_type": "code",
   "execution_count": 3,
   "id": "01df898d",
   "metadata": {},
   "outputs": [],
   "source": [
    "# импортируем библиотеку для работы с таблицами\n",
    "import pandas as pd"
   ]
  },
  {
   "cell_type": "markdown",
   "id": "f3e5bb22",
   "metadata": {},
   "source": [
    "### Изучим данные"
   ]
  },
  {
   "cell_type": "markdown",
   "id": "7160a55d",
   "metadata": {},
   "source": [
    "Для удобства экспортируем эксель файл в формат csv"
   ]
  },
  {
   "cell_type": "code",
   "execution_count": 4,
   "id": "da4ba1bb",
   "metadata": {},
   "outputs": [],
   "source": [
    "# читаем файл с данными и сохраняем в датафрейм\n",
    "data = pd.read_csv('/Users/catou/Тестовое/Тестовое_задание_младший_аналитик.csv', sep=';')"
   ]
  },
  {
   "cell_type": "code",
   "execution_count": 5,
   "id": "2c5dad97",
   "metadata": {
    "scrolled": true
   },
   "outputs": [
    {
     "data": {
      "text/html": [
       "<div>\n",
       "<style scoped>\n",
       "    .dataframe tbody tr th:only-of-type {\n",
       "        vertical-align: middle;\n",
       "    }\n",
       "\n",
       "    .dataframe tbody tr th {\n",
       "        vertical-align: top;\n",
       "    }\n",
       "\n",
       "    .dataframe thead th {\n",
       "        text-align: right;\n",
       "    }\n",
       "</style>\n",
       "<table border=\"1\" class=\"dataframe\">\n",
       "  <thead>\n",
       "    <tr style=\"text-align: right;\">\n",
       "      <th></th>\n",
       "      <th>brand</th>\n",
       "      <th>product_name</th>\n",
       "      <th>check</th>\n",
       "      <th>Unnamed: 3</th>\n",
       "      <th>Unnamed: 4</th>\n",
       "      <th>Unnamed: 5</th>\n",
       "      <th>Unnamed: 6</th>\n",
       "      <th>Unnamed: 7</th>\n",
       "    </tr>\n",
       "  </thead>\n",
       "  <tbody>\n",
       "    <tr>\n",
       "      <th>0</th>\n",
       "      <td>moloko</td>\n",
       "      <td>молоко домик в деревне 3 5% 0 2л</td>\n",
       "      <td>NaN</td>\n",
       "      <td>NaN</td>\n",
       "      <td>NaN</td>\n",
       "      <td>NaN</td>\n",
       "      <td>NaN</td>\n",
       "      <td>NaN</td>\n",
       "    </tr>\n",
       "    <tr>\n",
       "      <th>1</th>\n",
       "      <td>moloko</td>\n",
       "      <td>молоко ультрапастериз 2 5% село домашкино 900г бзмж тфа</td>\n",
       "      <td>NaN</td>\n",
       "      <td>NaN</td>\n",
       "      <td>NaN</td>\n",
       "      <td>NaN</td>\n",
       "      <td>NaN</td>\n",
       "      <td>NaN</td>\n",
       "    </tr>\n",
       "    <tr>\n",
       "      <th>2</th>\n",
       "      <td>moloko</td>\n",
       "      <td>молоко стерилиз домик в деревне 3 2% 950гр тва</td>\n",
       "      <td>NaN</td>\n",
       "      <td>NaN</td>\n",
       "      <td>NaN</td>\n",
       "      <td>NaN</td>\n",
       "      <td>NaN</td>\n",
       "      <td>NaN</td>\n",
       "    </tr>\n",
       "    <tr>\n",
       "      <th>3</th>\n",
       "      <td>moloko</td>\n",
       "      <td>молоко домик в деревне 1 5% 950г</td>\n",
       "      <td>NaN</td>\n",
       "      <td>NaN</td>\n",
       "      <td>NaN</td>\n",
       "      <td>NaN</td>\n",
       "      <td>NaN</td>\n",
       "      <td>NaN</td>\n",
       "    </tr>\n",
       "    <tr>\n",
       "      <th>4</th>\n",
       "      <td>moloko</td>\n",
       "      <td>молоко домашенька 3 2% пэт 1 4л оао белореченское 2 000</td>\n",
       "      <td>NaN</td>\n",
       "      <td>NaN</td>\n",
       "      <td>NaN</td>\n",
       "      <td>NaN</td>\n",
       "      <td>NaN</td>\n",
       "      <td>NaN</td>\n",
       "    </tr>\n",
       "  </tbody>\n",
       "</table>\n",
       "</div>"
      ],
      "text/plain": [
       "    brand                                             product_name  check  \\\n",
       "0  moloko                         молоко домик в деревне 3 5% 0 2л    NaN   \n",
       "1  moloko  молоко ультрапастериз 2 5% село домашкино 900г бзмж тфа    NaN   \n",
       "2  moloko           молоко стерилиз домик в деревне 3 2% 950гр тва    NaN   \n",
       "3  moloko                         молоко домик в деревне 1 5% 950г    NaN   \n",
       "4  moloko  молоко домашенька 3 2% пэт 1 4л оао белореченское 2 000    NaN   \n",
       "\n",
       "   Unnamed: 3  Unnamed: 4  Unnamed: 5  Unnamed: 6  Unnamed: 7  \n",
       "0         NaN         NaN         NaN         NaN         NaN  \n",
       "1         NaN         NaN         NaN         NaN         NaN  \n",
       "2         NaN         NaN         NaN         NaN         NaN  \n",
       "3         NaN         NaN         NaN         NaN         NaN  \n",
       "4         NaN         NaN         NaN         NaN         NaN  "
      ]
     },
     "execution_count": 5,
     "metadata": {},
     "output_type": "execute_result"
    }
   ],
   "source": [
    "# выведем датафрейм на экран\n",
    "# сбросив ограничения по символам в строке\n",
    "pd.set_option('display.max_colwidth', None)\n",
    "data.head()"
   ]
  },
  {
   "cell_type": "markdown",
   "id": "e7c5e846",
   "metadata": {},
   "source": [
    "### Скорректируем датафрейм для удобства"
   ]
  },
  {
   "cell_type": "code",
   "execution_count": 6,
   "id": "76d26ba7",
   "metadata": {},
   "outputs": [
    {
     "data": {
      "text/html": [
       "<div>\n",
       "<style scoped>\n",
       "    .dataframe tbody tr th:only-of-type {\n",
       "        vertical-align: middle;\n",
       "    }\n",
       "\n",
       "    .dataframe tbody tr th {\n",
       "        vertical-align: top;\n",
       "    }\n",
       "\n",
       "    .dataframe thead th {\n",
       "        text-align: right;\n",
       "    }\n",
       "</style>\n",
       "<table border=\"1\" class=\"dataframe\">\n",
       "  <thead>\n",
       "    <tr style=\"text-align: right;\">\n",
       "      <th></th>\n",
       "      <th>brand</th>\n",
       "      <th>product_name</th>\n",
       "      <th>check</th>\n",
       "    </tr>\n",
       "  </thead>\n",
       "  <tbody>\n",
       "    <tr>\n",
       "      <th>0</th>\n",
       "      <td>moloko</td>\n",
       "      <td>молоко домик в деревне 3 5% 0 2л</td>\n",
       "      <td>NaN</td>\n",
       "    </tr>\n",
       "    <tr>\n",
       "      <th>1</th>\n",
       "      <td>moloko</td>\n",
       "      <td>молоко ультрапастериз 2 5% село домашкино 900г бзмж тфа</td>\n",
       "      <td>NaN</td>\n",
       "    </tr>\n",
       "    <tr>\n",
       "      <th>2</th>\n",
       "      <td>moloko</td>\n",
       "      <td>молоко стерилиз домик в деревне 3 2% 950гр тва</td>\n",
       "      <td>NaN</td>\n",
       "    </tr>\n",
       "    <tr>\n",
       "      <th>3</th>\n",
       "      <td>moloko</td>\n",
       "      <td>молоко домик в деревне 1 5% 950г</td>\n",
       "      <td>NaN</td>\n",
       "    </tr>\n",
       "    <tr>\n",
       "      <th>4</th>\n",
       "      <td>moloko</td>\n",
       "      <td>молоко домашенька 3 2% пэт 1 4л оао белореченское 2 000</td>\n",
       "      <td>NaN</td>\n",
       "    </tr>\n",
       "  </tbody>\n",
       "</table>\n",
       "</div>"
      ],
      "text/plain": [
       "    brand                                             product_name  check\n",
       "0  moloko                         молоко домик в деревне 3 5% 0 2л    NaN\n",
       "1  moloko  молоко ультрапастериз 2 5% село домашкино 900г бзмж тфа    NaN\n",
       "2  moloko           молоко стерилиз домик в деревне 3 2% 950гр тва    NaN\n",
       "3  moloko                         молоко домик в деревне 1 5% 950г    NaN\n",
       "4  moloko  молоко домашенька 3 2% пэт 1 4л оао белореченское 2 000    NaN"
      ]
     },
     "execution_count": 6,
     "metadata": {},
     "output_type": "execute_result"
    }
   ],
   "source": [
    "# удаляем ненужные столбцы\n",
    "data = data.drop(['Unnamed: 3', 'Unnamed: 4', 'Unnamed: 5', 'Unnamed: 6', 'Unnamed: 7'], axis=1)\n",
    "data.head()"
   ]
  },
  {
   "cell_type": "code",
   "execution_count": 7,
   "id": "254b5216",
   "metadata": {},
   "outputs": [],
   "source": [
    "# на всякий случай переведем все в нижний регистр\n",
    "for col in ['brand', 'product_name']:\n",
    "    data[col] = data[col].str.lower()"
   ]
  },
  {
   "cell_type": "markdown",
   "id": "30a90270",
   "metadata": {},
   "source": [
    "### Изучим функции библиотеки thefuzz"
   ]
  },
  {
   "cell_type": "markdown",
   "id": "13edbefc",
   "metadata": {},
   "source": [
    "У данной библиотеки есть несколько функций, которые работают с неполным сопоставлением слов. Рассмотрим на примерах, какая из функций наиболее нам подходит"
   ]
  },
  {
   "cell_type": "code",
   "execution_count": 8,
   "id": "ce62b8a0",
   "metadata": {},
   "outputs": [
    {
     "name": "stdout",
     "output_type": "stream",
     "text": [
      "26\n",
      "50\n",
      "31\n",
      "31\n",
      "67\n"
     ]
    }
   ],
   "source": [
    "print(fuzz.ratio(\"о сыр к фол рык мол 1 5л осиповка\", \"молоко\"))\n",
    "print(fuzz.partial_ratio(\"о сыр к фол рык мол 1 5л осиповка\", \"молоко\"))\n",
    "print(fuzz.token_sort_ratio(\"о сыр к фол рык мол 1 5л осиповка\", \"молоко\"))\n",
    "print(fuzz.token_set_ratio(\"о сыр к фол рык мол 1 5л осиповка\", \"молоко\"))\n",
    "print(fuzz.partial_token_sort_ratio(\"о сыр к фол рык мол 1 5л осиповка\", \"молоко\"))"
   ]
  },
  {
   "cell_type": "markdown",
   "id": "2d99b294",
   "metadata": {},
   "source": [
    "#### Наблюдение для слова \"молоко\""
   ]
  },
  {
   "cell_type": "markdown",
   "id": "9df851d8",
   "metadata": {},
   "source": [
    "Для слова \"молоко\" нам важно найти совпадение среди слов - то есть сравнивать отдельные слова с искомым словом \"молоко\".    \n",
    "При этом нам важно, чтобы сокращение или опечатки не сильно влияли на уровень схожести, поскольку наша первостепенная цель - отфильтровать те строки, где есть вариации слова молоко. "
   ]
  },
  {
   "cell_type": "code",
   "execution_count": 9,
   "id": "fc7fa1b0",
   "metadata": {},
   "outputs": [
    {
     "name": "stdout",
     "output_type": "stream",
     "text": [
      "22\n",
      "47\n",
      "22\n",
      "22\n",
      "53\n"
     ]
    }
   ],
   "source": [
    "#проверяем работу функции \n",
    "print(fuzz.ratio(\"сметаносодержащий продукт с зам мол жира домашняя буренка 15% 400 гр уценка\", \"домик в деревне\"))\n",
    "print(fuzz.partial_ratio(\"сметаносодержащий продукт с зам мол жира домашняя буренка 15% 400 гр уценка\", \"домик в деревне\"))\n",
    "print(fuzz.token_sort_ratio(\"сметаносодержащий продукт с зам мол жира домашняя буренка 15% 400 гр уценка\", \"домик в деревне\"))\n",
    "print(fuzz.token_set_ratio(\"сметаносодержащий продукт с зам мол жира домашняя буренка 15% 400 гр уценка\", \"домик в деревне\"))\n",
    "print(fuzz.partial_token_sort_ratio(\"сметаносодержащий продукт с зам мол жира домашняя буренка 15% 400 гр уценка\", \"домик в деревне\"))"
   ]
  },
  {
   "cell_type": "markdown",
   "id": "e34f76c6",
   "metadata": {},
   "source": [
    "#### Наблюдение для словосочетания \"домик в деревне\""
   ]
  },
  {
   "cell_type": "markdown",
   "id": "554ca460",
   "metadata": {},
   "source": [
    "Для \"домик в деревне\" нам важно найти совпадение среди всей строки, а не среди слов.\n",
    "При этом нам важно, чтобы совпадение было достаточно высоким, поскольку в строке может быть много похожих слов."
   ]
  },
  {
   "cell_type": "markdown",
   "id": "2c10a3bd",
   "metadata": {},
   "source": [
    "### Попробуем создать некие функции для нахождения вариаций слова \"молоко\""
   ]
  },
  {
   "cell_type": "markdown",
   "id": "949697ed",
   "metadata": {},
   "source": [
    "Для удобства создадим две функции: \n",
    "1-ая функция покажет нам, какие ближайщие похожие слова находит функция и какой уровень схожести она им дает"
   ]
  },
  {
   "cell_type": "code",
   "execution_count": 10,
   "id": "39481734",
   "metadata": {},
   "outputs": [],
   "source": [
    "# функция для отображения уровня похожести слов строки на \"молоко\"\n",
    "def word_milk_distance(s): \n",
    "    word = 'молоко' # искомое слово\n",
    "    results = []  # список для хранения результатов\n",
    "    if word not in s:  # если слово отсутствует в строке\n",
    "        best_match = process.extractOne(word, s.split())  # находим схожее слово среди слов строки - поэтому сплит\n",
    "        distance = fuzz.partial_token_sort_ratio(word, best_match[0])  # смотрим на уровень схожести слов\n",
    "        results.append((word, best_match[0], distance))  # добавляем результаты в список\n",
    "    else:\n",
    "        results.append((word, \"Found\"))  # добавляем Found, если искомое слово сразу найдено в строке\n",
    "\n",
    "    return results # возвращаем список с результами\n",
    "\n",
    "# применяем функцию к каждой строке датафрейма и сохраняем результаты в новой колонке\n",
    "data['milk_distance'] = data['product_name'].apply(lambda x: word_milk_distance(x))"
   ]
  },
  {
   "cell_type": "markdown",
   "id": "56124823",
   "metadata": {},
   "source": [
    "2-ая функция будет вносить в колонку check два значения: 3 - если похожее слово найдено или 0 - если слова нет"
   ]
  },
  {
   "cell_type": "code",
   "execution_count": 11,
   "id": "364c1905",
   "metadata": {
    "scrolled": false
   },
   "outputs": [
    {
     "data": {
      "text/html": [
       "<div>\n",
       "<style scoped>\n",
       "    .dataframe tbody tr th:only-of-type {\n",
       "        vertical-align: middle;\n",
       "    }\n",
       "\n",
       "    .dataframe tbody tr th {\n",
       "        vertical-align: top;\n",
       "    }\n",
       "\n",
       "    .dataframe thead th {\n",
       "        text-align: right;\n",
       "    }\n",
       "</style>\n",
       "<table border=\"1\" class=\"dataframe\">\n",
       "  <thead>\n",
       "    <tr style=\"text-align: right;\">\n",
       "      <th></th>\n",
       "      <th>brand</th>\n",
       "      <th>product_name</th>\n",
       "      <th>check</th>\n",
       "      <th>milk_distance</th>\n",
       "    </tr>\n",
       "  </thead>\n",
       "  <tbody>\n",
       "    <tr>\n",
       "      <th>0</th>\n",
       "      <td>moloko</td>\n",
       "      <td>молоко домик в деревне 3 5% 0 2л</td>\n",
       "      <td>3</td>\n",
       "      <td>[(молоко, Found)]</td>\n",
       "    </tr>\n",
       "    <tr>\n",
       "      <th>1</th>\n",
       "      <td>moloko</td>\n",
       "      <td>молоко ультрапастериз 2 5% село домашкино 900г бзмж тфа</td>\n",
       "      <td>3</td>\n",
       "      <td>[(молоко, Found)]</td>\n",
       "    </tr>\n",
       "    <tr>\n",
       "      <th>2</th>\n",
       "      <td>moloko</td>\n",
       "      <td>молоко стерилиз домик в деревне 3 2% 950гр тва</td>\n",
       "      <td>3</td>\n",
       "      <td>[(молоко, Found)]</td>\n",
       "    </tr>\n",
       "    <tr>\n",
       "      <th>3</th>\n",
       "      <td>moloko</td>\n",
       "      <td>молоко домик в деревне 1 5% 950г</td>\n",
       "      <td>3</td>\n",
       "      <td>[(молоко, Found)]</td>\n",
       "    </tr>\n",
       "    <tr>\n",
       "      <th>4</th>\n",
       "      <td>moloko</td>\n",
       "      <td>молоко домашенька 3 2% пэт 1 4л оао белореченское 2 000</td>\n",
       "      <td>3</td>\n",
       "      <td>[(молоко, Found)]</td>\n",
       "    </tr>\n",
       "    <tr>\n",
       "      <th>...</th>\n",
       "      <td>...</td>\n",
       "      <td>...</td>\n",
       "      <td>...</td>\n",
       "      <td>...</td>\n",
       "    </tr>\n",
       "    <tr>\n",
       "      <th>4995</th>\n",
       "      <td>moloko</td>\n",
       "      <td>молоко ультрапаст домик в деревне 3 2% 950г бзмж</td>\n",
       "      <td>3</td>\n",
       "      <td>[(молоко, Found)]</td>\n",
       "    </tr>\n",
       "    <tr>\n",
       "      <th>4996</th>\n",
       "      <td>moloko</td>\n",
       "      <td>молоко домик в деревне ж 2 5% 930 мл пэт бут</td>\n",
       "      <td>3</td>\n",
       "      <td>[(молоко, Found)]</td>\n",
       "    </tr>\n",
       "    <tr>\n",
       "      <th>4997</th>\n",
       "      <td>moloko</td>\n",
       "      <td>молоко отборное в бут 930мл домик в деревне</td>\n",
       "      <td>3</td>\n",
       "      <td>[(молоко, Found)]</td>\n",
       "    </tr>\n",
       "    <tr>\n",
       "      <th>4998</th>\n",
       "      <td>moloko</td>\n",
       "      <td>молоко сгущеное с шоколадом 270г см</td>\n",
       "      <td>3</td>\n",
       "      <td>[(молоко, Found)]</td>\n",
       "    </tr>\n",
       "    <tr>\n",
       "      <th>4999</th>\n",
       "      <td>moloko</td>\n",
       "      <td>молоко коровье питьевое стер 2 5% 750мл 6 деревенский домик</td>\n",
       "      <td>3</td>\n",
       "      <td>[(молоко, Found)]</td>\n",
       "    </tr>\n",
       "  </tbody>\n",
       "</table>\n",
       "<p>5000 rows × 4 columns</p>\n",
       "</div>"
      ],
      "text/plain": [
       "       brand                                                 product_name  \\\n",
       "0     moloko                             молоко домик в деревне 3 5% 0 2л   \n",
       "1     moloko      молоко ультрапастериз 2 5% село домашкино 900г бзмж тфа   \n",
       "2     moloko               молоко стерилиз домик в деревне 3 2% 950гр тва   \n",
       "3     moloko                             молоко домик в деревне 1 5% 950г   \n",
       "4     moloko      молоко домашенька 3 2% пэт 1 4л оао белореченское 2 000   \n",
       "...      ...                                                          ...   \n",
       "4995  moloko             молоко ультрапаст домик в деревне 3 2% 950г бзмж   \n",
       "4996  moloko                 молоко домик в деревне ж 2 5% 930 мл пэт бут   \n",
       "4997  moloko                  молоко отборное в бут 930мл домик в деревне   \n",
       "4998  moloko                          молоко сгущеное с шоколадом 270г см   \n",
       "4999  moloko  молоко коровье питьевое стер 2 5% 750мл 6 деревенский домик   \n",
       "\n",
       "      check      milk_distance  \n",
       "0         3  [(молоко, Found)]  \n",
       "1         3  [(молоко, Found)]  \n",
       "2         3  [(молоко, Found)]  \n",
       "3         3  [(молоко, Found)]  \n",
       "4         3  [(молоко, Found)]  \n",
       "...     ...                ...  \n",
       "4995      3  [(молоко, Found)]  \n",
       "4996      3  [(молоко, Found)]  \n",
       "4997      3  [(молоко, Found)]  \n",
       "4998      3  [(молоко, Found)]  \n",
       "4999      3  [(молоко, Found)]  \n",
       "\n",
       "[5000 rows x 4 columns]"
      ]
     },
     "execution_count": 11,
     "metadata": {},
     "output_type": "execute_result"
    }
   ],
   "source": [
    "\n",
    "# функция ищет молоко и ставит 0 или 3 если нашла слово или слово схожее бельше чем на 99\n",
    "# функция для проверки строки\n",
    "def check_string(s):\n",
    "        # если слово не найдено, проверяем на опечатку\n",
    "        word = 'молоко'\n",
    "        if word not in s:\n",
    "            # находим наиболее похожее слово\n",
    "            best_match = process.extractOne(word, s.split())\n",
    "            # если наиболее похожее слово не найдено или его схожесть меньше 99, возвращаем 0\n",
    "            if best_match is None or fuzz.partial_token_sort_ratio(word, best_match[0]) < 99:\n",
    "                return 0\n",
    "        # если слово найдено, возвращаем 3\n",
    "        return 3\n",
    "\n",
    "# применяем функцию к каждой строке\n",
    "data['check'] = data['product_name'].apply(check_string)\n",
    "\n",
    "#pd.set_option('display.max_rows', None) смотрим на весь датафрейм\n",
    "\n",
    "data #смотрим на кусок датафрейма"
   ]
  },
  {
   "cell_type": "markdown",
   "id": "d85058a8",
   "metadata": {},
   "source": [
    "#### Наблюдение о работе функций"
   ]
  },
  {
   "cell_type": "markdown",
   "id": "8e9bf213",
   "metadata": {},
   "source": [
    "Посмотрим, в каких строках не было найдено слова \"молоко\" или похожего.  \n",
    "На основе этого фильтра выставим то значение уровня схожести, прии которым больше всего возможных вариаций слова \"молоко\" попадет получит в check - 3.  \n",
    "\n",
    "По изучении было выбрано значение в 99"
   ]
  },
  {
   "cell_type": "code",
   "execution_count": 12,
   "id": "89902162",
   "metadata": {
    "scrolled": true
   },
   "outputs": [
    {
     "data": {
      "text/html": [
       "<div>\n",
       "<style scoped>\n",
       "    .dataframe tbody tr th:only-of-type {\n",
       "        vertical-align: middle;\n",
       "    }\n",
       "\n",
       "    .dataframe tbody tr th {\n",
       "        vertical-align: top;\n",
       "    }\n",
       "\n",
       "    .dataframe thead th {\n",
       "        text-align: right;\n",
       "    }\n",
       "</style>\n",
       "<table border=\"1\" class=\"dataframe\">\n",
       "  <thead>\n",
       "    <tr style=\"text-align: right;\">\n",
       "      <th></th>\n",
       "      <th>brand</th>\n",
       "      <th>product_name</th>\n",
       "      <th>check</th>\n",
       "      <th>milk_distance</th>\n",
       "    </tr>\n",
       "  </thead>\n",
       "  <tbody>\n",
       "    <tr>\n",
       "      <th>197</th>\n",
       "      <td>moloko</td>\n",
       "      <td>маргарин домашний руссмол 180гфсзмж</td>\n",
       "      <td>0</td>\n",
       "      <td>[(молоко, руссмол, 67)]</td>\n",
       "    </tr>\n",
       "    <tr>\n",
       "      <th>386</th>\n",
       "      <td>moloko</td>\n",
       "      <td>маргарин домашний 60% руссмол 180г</td>\n",
       "      <td>0</td>\n",
       "      <td>[(молоко, руссмол, 67)]</td>\n",
       "    </tr>\n",
       "    <tr>\n",
       "      <th>1008</th>\n",
       "      <td>moloko</td>\n",
       "      <td>маргарин домашний 60% 180г фол русмол</td>\n",
       "      <td>0</td>\n",
       "      <td>[(молоко, фол, 67)]</td>\n",
       "    </tr>\n",
       "    <tr>\n",
       "      <th>1171</th>\n",
       "      <td>moloko</td>\n",
       "      <td>сметана новмолдом 20% бзмж 500 г</td>\n",
       "      <td>0</td>\n",
       "      <td>[(молоко, новмолдом, 67)]</td>\n",
       "    </tr>\n",
       "    <tr>\n",
       "      <th>1364</th>\n",
       "      <td>moloko</td>\n",
       "      <td>айран 1% 1000мл бут молдом</td>\n",
       "      <td>0</td>\n",
       "      <td>[(молоко, молдом, 80)]</td>\n",
       "    </tr>\n",
       "    <tr>\n",
       "      <th>1527</th>\n",
       "      <td>moloko</td>\n",
       "      <td>кольца для штор пластиковые на карниз d5см молшоколад 20шт домовитый гусак</td>\n",
       "      <td>0</td>\n",
       "      <td>[(молоко, молшоколад, 83)]</td>\n",
       "    </tr>\n",
       "    <tr>\n",
       "      <th>1559</th>\n",
       "      <td>moloko</td>\n",
       "      <td>сыр фасов домашний пряди в асс 50г карачмолпр 620 961</td>\n",
       "      <td>0</td>\n",
       "      <td>[(молоко, карачмолпр, 55)]</td>\n",
       "    </tr>\n",
       "    <tr>\n",
       "      <th>2676</th>\n",
       "      <td>moloko</td>\n",
       "      <td>кефир 2 5% село домашкино 900г пэт бут бзмж ооо молснаб</td>\n",
       "      <td>0</td>\n",
       "      <td>[(молоко, ооо, 67)]</td>\n",
       "    </tr>\n",
       "    <tr>\n",
       "      <th>2961</th>\n",
       "      <td>moloko</td>\n",
       "      <td>домашний комплект для сна моlоко sнорs</td>\n",
       "      <td>0</td>\n",
       "      <td>[(молоко, моlоко, 83)]</td>\n",
       "    </tr>\n",
       "    <tr>\n",
       "      <th>3066</th>\n",
       "      <td>moloko</td>\n",
       "      <td>домпрсолнцемолпосзаглица</td>\n",
       "      <td>0</td>\n",
       "      <td>[(молоко, домпрсолнцемолпосзаглица, 67)]</td>\n",
       "    </tr>\n",
       "    <tr>\n",
       "      <th>3156</th>\n",
       "      <td>moloko</td>\n",
       "      <td>кефир новмолдом</td>\n",
       "      <td>0</td>\n",
       "      <td>[(молоко, новмолдом, 67)]</td>\n",
       "    </tr>\n",
       "    <tr>\n",
       "      <th>3214</th>\n",
       "      <td>moloko</td>\n",
       "      <td>чудомолкоктейль 2 5% 200мл</td>\n",
       "      <td>0</td>\n",
       "      <td>[(молоко, чудомолкоктейль, 83)]</td>\n",
       "    </tr>\n",
       "    <tr>\n",
       "      <th>4128</th>\n",
       "      <td>moloko</td>\n",
       "      <td>229023 чудомолванил2%0 2л</td>\n",
       "      <td>0</td>\n",
       "      <td>[(молоко, чудомолванил2%0, 50)]</td>\n",
       "    </tr>\n",
       "    <tr>\n",
       "      <th>4155</th>\n",
       "      <td>moloko</td>\n",
       "      <td>маргарин руссмол домаш 60% 180г ф</td>\n",
       "      <td>0</td>\n",
       "      <td>[(молоко, руссмол, 67)]</td>\n",
       "    </tr>\n",
       "    <tr>\n",
       "      <th>4158</th>\n",
       "      <td>moloko</td>\n",
       "      <td>пижама новогодняя домашний костюм фемели лук fамilу lоок моlоко sнорs</td>\n",
       "      <td>0</td>\n",
       "      <td>[(молоко, моlоко, 83)]</td>\n",
       "    </tr>\n",
       "    <tr>\n",
       "      <th>4725</th>\n",
       "      <td>moloko</td>\n",
       "      <td>кефир домашний молистории</td>\n",
       "      <td>0</td>\n",
       "      <td>[(молоко, молистории, 67)]</td>\n",
       "    </tr>\n",
       "    <tr>\n",
       "      <th>4781</th>\n",
       "      <td>moloko</td>\n",
       "      <td>продление домена rи моlоко76 rи</td>\n",
       "      <td>0</td>\n",
       "      <td>[(молоко, моlоко76, 83)]</td>\n",
       "    </tr>\n",
       "    <tr>\n",
       "      <th>4862</th>\n",
       "      <td>moloko</td>\n",
       "      <td>смет пр стар крес змж 20% молдом кг</td>\n",
       "      <td>0</td>\n",
       "      <td>[(молоко, молдом, 80)]</td>\n",
       "    </tr>\n",
       "    <tr>\n",
       "      <th>4915</th>\n",
       "      <td>moloko</td>\n",
       "      <td>кольца для штор пластиковые на карниз d4 5см молшоколад 20шт домовитый гусак</td>\n",
       "      <td>0</td>\n",
       "      <td>[(молоко, молшоколад, 83)]</td>\n",
       "    </tr>\n",
       "  </tbody>\n",
       "</table>\n",
       "</div>"
      ],
      "text/plain": [
       "       brand  \\\n",
       "197   moloko   \n",
       "386   moloko   \n",
       "1008  moloko   \n",
       "1171  moloko   \n",
       "1364  moloko   \n",
       "1527  moloko   \n",
       "1559  moloko   \n",
       "2676  moloko   \n",
       "2961  moloko   \n",
       "3066  moloko   \n",
       "3156  moloko   \n",
       "3214  moloko   \n",
       "4128  moloko   \n",
       "4155  moloko   \n",
       "4158  moloko   \n",
       "4725  moloko   \n",
       "4781  moloko   \n",
       "4862  moloko   \n",
       "4915  moloko   \n",
       "\n",
       "                                                                      product_name  \\\n",
       "197                                            маргарин домашний руссмол 180гфсзмж   \n",
       "386                                             маргарин домашний 60% руссмол 180г   \n",
       "1008                                         маргарин домашний 60% 180г фол русмол   \n",
       "1171                                              сметана новмолдом 20% бзмж 500 г   \n",
       "1364                                                    айран 1% 1000мл бут молдом   \n",
       "1527    кольца для штор пластиковые на карниз d5см молшоколад 20шт домовитый гусак   \n",
       "1559                         сыр фасов домашний пряди в асс 50г карачмолпр 620 961   \n",
       "2676                       кефир 2 5% село домашкино 900г пэт бут бзмж ооо молснаб   \n",
       "2961                                        домашний комплект для сна моlоко sнорs   \n",
       "3066                                                      домпрсолнцемолпосзаглица   \n",
       "3156                                                               кефир новмолдом   \n",
       "3214                                                    чудомолкоктейль 2 5% 200мл   \n",
       "4128                                                     229023 чудомолванил2%0 2л   \n",
       "4155                                             маргарин руссмол домаш 60% 180г ф   \n",
       "4158         пижама новогодняя домашний костюм фемели лук fамilу lоок моlоко sнорs   \n",
       "4725                                                     кефир домашний молистории   \n",
       "4781                                               продление домена rи моlоко76 rи   \n",
       "4862                                           смет пр стар крес змж 20% молдом кг   \n",
       "4915  кольца для штор пластиковые на карниз d4 5см молшоколад 20шт домовитый гусак   \n",
       "\n",
       "      check                             milk_distance  \n",
       "197       0                   [(молоко, руссмол, 67)]  \n",
       "386       0                   [(молоко, руссмол, 67)]  \n",
       "1008      0                       [(молоко, фол, 67)]  \n",
       "1171      0                 [(молоко, новмолдом, 67)]  \n",
       "1364      0                    [(молоко, молдом, 80)]  \n",
       "1527      0                [(молоко, молшоколад, 83)]  \n",
       "1559      0                [(молоко, карачмолпр, 55)]  \n",
       "2676      0                       [(молоко, ооо, 67)]  \n",
       "2961      0                    [(молоко, моlоко, 83)]  \n",
       "3066      0  [(молоко, домпрсолнцемолпосзаглица, 67)]  \n",
       "3156      0                 [(молоко, новмолдом, 67)]  \n",
       "3214      0           [(молоко, чудомолкоктейль, 83)]  \n",
       "4128      0           [(молоко, чудомолванил2%0, 50)]  \n",
       "4155      0                   [(молоко, руссмол, 67)]  \n",
       "4158      0                    [(молоко, моlоко, 83)]  \n",
       "4725      0                [(молоко, молистории, 67)]  \n",
       "4781      0                  [(молоко, моlоко76, 83)]  \n",
       "4862      0                    [(молоко, молдом, 80)]  \n",
       "4915      0                [(молоко, молшоколад, 83)]  "
      ]
     },
     "execution_count": 12,
     "metadata": {},
     "output_type": "execute_result"
    }
   ],
   "source": [
    "data.loc[data['check'] !=3]"
   ]
  },
  {
   "cell_type": "markdown",
   "id": "31b14094",
   "metadata": {},
   "source": [
    "### Добавим вручную некоторые вариации \"домик в деревне\""
   ]
  },
  {
   "cell_type": "markdown",
   "id": "22332379",
   "metadata": {},
   "source": [
    "При наблюдении было замечено, что некоторые строки, содержащие слово \"молоко\", имеют слишком сокращенные вариации \"домик в деревне\". К примеру - \"дом в дер\" или \"дом в д\". Поэтому добавим строкам с такими вариациями в колонку check - 1.\n",
    "\n",
    "Изменить уровень схожести настолько, чтобы подобные строки сразу получали check - 1 не кажется правильным: поскольку тогда в данные попадут неподходящие строки, к примеру бренда \"деревенский домик\", имеющие подобные уровни схожести."
   ]
  },
  {
   "cell_type": "code",
   "execution_count": 13,
   "id": "3b065420",
   "metadata": {
    "scrolled": true
   },
   "outputs": [
    {
     "data": {
      "text/html": [
       "<div>\n",
       "<style scoped>\n",
       "    .dataframe tbody tr th:only-of-type {\n",
       "        vertical-align: middle;\n",
       "    }\n",
       "\n",
       "    .dataframe tbody tr th {\n",
       "        vertical-align: top;\n",
       "    }\n",
       "\n",
       "    .dataframe thead th {\n",
       "        text-align: right;\n",
       "    }\n",
       "</style>\n",
       "<table border=\"1\" class=\"dataframe\">\n",
       "  <thead>\n",
       "    <tr style=\"text-align: right;\">\n",
       "      <th></th>\n",
       "      <th>brand</th>\n",
       "      <th>product_name</th>\n",
       "      <th>check</th>\n",
       "      <th>milk_distance</th>\n",
       "    </tr>\n",
       "  </thead>\n",
       "  <tbody>\n",
       "    <tr>\n",
       "      <th>65</th>\n",
       "      <td>moloko</td>\n",
       "      <td>молоко вареное домашкино 8 5% 380 гр ж б</td>\n",
       "      <td>3</td>\n",
       "      <td>[(молоко, Found)]</td>\n",
       "    </tr>\n",
       "    <tr>\n",
       "      <th>66</th>\n",
       "      <td>moloko</td>\n",
       "      <td>молоко дом в дер отб 3 7 4 5р деревен 9</td>\n",
       "      <td>1</td>\n",
       "      <td>[(молоко, Found)]</td>\n",
       "    </tr>\n",
       "    <tr>\n",
       "      <th>67</th>\n",
       "      <td>moloko</td>\n",
       "      <td>молоко пит домик в деревне 3 2% т п 0 95 л мт</td>\n",
       "      <td>3</td>\n",
       "      <td>[(молоко, Found)]</td>\n",
       "    </tr>\n",
       "  </tbody>\n",
       "</table>\n",
       "</div>"
      ],
      "text/plain": [
       "     brand                                   product_name  check  \\\n",
       "65  moloko       молоко вареное домашкино 8 5% 380 гр ж б      3   \n",
       "66  moloko        молоко дом в дер отб 3 7 4 5р деревен 9      1   \n",
       "67  moloko  молоко пит домик в деревне 3 2% т п 0 95 л мт      3   \n",
       "\n",
       "        milk_distance  \n",
       "65  [(молоко, Found)]  \n",
       "66  [(молоко, Found)]  \n",
       "67  [(молоко, Found)]  "
      ]
     },
     "execution_count": 13,
     "metadata": {},
     "output_type": "execute_result"
    }
   ],
   "source": [
    "data.loc[(data['product_name'].str.contains('дом в дер | дом в д')) & (data['check'] == 3), 'check'] = 1\n",
    "\n",
    "# проверим на примере, что все сработало\n",
    "data.loc[65:67]"
   ]
  },
  {
   "cell_type": "markdown",
   "id": "1e458281",
   "metadata": {},
   "source": [
    "### Попробуем создать некие функции для нахождения вариаций \"домик в деревне\""
   ]
  },
  {
   "cell_type": "markdown",
   "id": "e6dd7d7f",
   "metadata": {},
   "source": [
    "Также берем две функции.\n",
    "1-ая функция покажет нам, какие ближайщие похожие слова находит функция и какой уровень схожести она им дает"
   ]
  },
  {
   "cell_type": "code",
   "execution_count": 14,
   "id": "81289752",
   "metadata": {},
   "outputs": [],
   "source": [
    "# функция для отображения похожести домик\n",
    "def check_string_dom_distance(s):\n",
    "    word = 'домик в деревне'\n",
    "    results = []  # список для хранения результатов\n",
    "    if word not in s:  # если слово отсутствует в строке\n",
    "        best_match = process.extractOne(word, [s])  # находим ближайшую замену\n",
    "        distance = fuzz.token_set_ratio(word, best_match[0])  # смотрим на похожее слово\n",
    "        results.append((word, best_match[0], distance))  # добавляем результаты в список\n",
    "    else:\n",
    "        results.append((word, \"Found\"))  # добавляем Found, если слово найдено в строке\n",
    "\n",
    "    return results\n",
    "\n",
    "# применяем функцию к каждой строке датафрейма и сохраняем результаты в новой колонке\n",
    "data['dom_distance'] = data['product_name'].apply(lambda x: check_string_dom_distance(x))\n"
   ]
  },
  {
   "cell_type": "markdown",
   "id": "f79511fc",
   "metadata": {},
   "source": [
    "2-ая функция будет вносить в колонку check два значения: 1 - если похожее слово найдено или 0 - если слова нет"
   ]
  },
  {
   "cell_type": "code",
   "execution_count": 15,
   "id": "5dd9cf40",
   "metadata": {},
   "outputs": [
    {
     "data": {
      "text/html": [
       "<div>\n",
       "<style scoped>\n",
       "    .dataframe tbody tr th:only-of-type {\n",
       "        vertical-align: middle;\n",
       "    }\n",
       "\n",
       "    .dataframe tbody tr th {\n",
       "        vertical-align: top;\n",
       "    }\n",
       "\n",
       "    .dataframe thead th {\n",
       "        text-align: right;\n",
       "    }\n",
       "</style>\n",
       "<table border=\"1\" class=\"dataframe\">\n",
       "  <thead>\n",
       "    <tr style=\"text-align: right;\">\n",
       "      <th></th>\n",
       "      <th>brand</th>\n",
       "      <th>product_name</th>\n",
       "      <th>check</th>\n",
       "      <th>milk_distance</th>\n",
       "      <th>dom_distance</th>\n",
       "    </tr>\n",
       "  </thead>\n",
       "  <tbody>\n",
       "    <tr>\n",
       "      <th>203</th>\n",
       "      <td>moloko</td>\n",
       "      <td>молоко домик в деревне для капучино 3 2% 925мл</td>\n",
       "      <td>1</td>\n",
       "      <td>[(молоко, Found)]</td>\n",
       "      <td>[(домик в деревне, Found)]</td>\n",
       "    </tr>\n",
       "    <tr>\n",
       "      <th>204</th>\n",
       "      <td>moloko</td>\n",
       "      <td>молоко домик в д 3 2% 950г 1 000</td>\n",
       "      <td>1</td>\n",
       "      <td>[(молоко, Found)]</td>\n",
       "      <td>[(домик в деревне, молоко домик в д 3 2% 950г 1 000, 64)]</td>\n",
       "    </tr>\n",
       "    <tr>\n",
       "      <th>205</th>\n",
       "      <td>moloko</td>\n",
       "      <td>молоко ультрапастеризованное домик в деревне 2 5% 925 мл</td>\n",
       "      <td>1</td>\n",
       "      <td>[(молоко, Found)]</td>\n",
       "      <td>[(домик в деревне, Found)]</td>\n",
       "    </tr>\n",
       "    <tr>\n",
       "      <th>206</th>\n",
       "      <td>moloko</td>\n",
       "      <td>тапочки домашние р 37 38 войлок лен мех молоко</td>\n",
       "      <td>0</td>\n",
       "      <td>[(молоко, Found)]</td>\n",
       "      <td>[(домик в деревне, тапочки домашние р 37 38 войлок лен мех молоко, 33)]</td>\n",
       "    </tr>\n",
       "    <tr>\n",
       "      <th>207</th>\n",
       "      <td>moloko</td>\n",
       "      <td>молоко домик в дер стер 3 2% 950гр х 18 000</td>\n",
       "      <td>1</td>\n",
       "      <td>[(молоко, Found)]</td>\n",
       "      <td>[(домик в деревне, молоко домик в дер стер 3 2% 950гр х 18 000, 64)]</td>\n",
       "    </tr>\n",
       "    <tr>\n",
       "      <th>208</th>\n",
       "      <td>moloko</td>\n",
       "      <td>молоко с медом 0 3</td>\n",
       "      <td>0</td>\n",
       "      <td>[(молоко, Found)]</td>\n",
       "      <td>[(домик в деревне, молоко с медом 0 3, 36)]</td>\n",
       "    </tr>\n",
       "    <tr>\n",
       "      <th>209</th>\n",
       "      <td>moloko</td>\n",
       "      <td>молоко ультрапастеризованное домик в деревне 3 2% 950 мл</td>\n",
       "      <td>1</td>\n",
       "      <td>[(молоко, Found)]</td>\n",
       "      <td>[(домик в деревне, Found)]</td>\n",
       "    </tr>\n",
       "    <tr>\n",
       "      <th>210</th>\n",
       "      <td>moloko</td>\n",
       "      <td>сметаносодержащий продукт с зам мол жира домашняя буренка 15% 400 гр уценка</td>\n",
       "      <td>0</td>\n",
       "      <td>[(молоко, мол, 100)]</td>\n",
       "      <td>[(домик в деревне, сметаносодержащий продукт с зам мол жира домашняя буренка 15% 400 гр уценка, 22)]</td>\n",
       "    </tr>\n",
       "  </tbody>\n",
       "</table>\n",
       "</div>"
      ],
      "text/plain": [
       "      brand  \\\n",
       "203  moloko   \n",
       "204  moloko   \n",
       "205  moloko   \n",
       "206  moloko   \n",
       "207  moloko   \n",
       "208  moloko   \n",
       "209  moloko   \n",
       "210  moloko   \n",
       "\n",
       "                                                                    product_name  \\\n",
       "203                               молоко домик в деревне для капучино 3 2% 925мл   \n",
       "204                                             молоко домик в д 3 2% 950г 1 000   \n",
       "205                     молоко ультрапастеризованное домик в деревне 2 5% 925 мл   \n",
       "206                               тапочки домашние р 37 38 войлок лен мех молоко   \n",
       "207                                  молоко домик в дер стер 3 2% 950гр х 18 000   \n",
       "208                                                           молоко с медом 0 3   \n",
       "209                     молоко ультрапастеризованное домик в деревне 3 2% 950 мл   \n",
       "210  сметаносодержащий продукт с зам мол жира домашняя буренка 15% 400 гр уценка   \n",
       "\n",
       "     check         milk_distance  \\\n",
       "203      1     [(молоко, Found)]   \n",
       "204      1     [(молоко, Found)]   \n",
       "205      1     [(молоко, Found)]   \n",
       "206      0     [(молоко, Found)]   \n",
       "207      1     [(молоко, Found)]   \n",
       "208      0     [(молоко, Found)]   \n",
       "209      1     [(молоко, Found)]   \n",
       "210      0  [(молоко, мол, 100)]   \n",
       "\n",
       "                                                                                             dom_distance  \n",
       "203                                                                            [(домик в деревне, Found)]  \n",
       "204                                             [(домик в деревне, молоко домик в д 3 2% 950г 1 000, 64)]  \n",
       "205                                                                            [(домик в деревне, Found)]  \n",
       "206                               [(домик в деревне, тапочки домашние р 37 38 войлок лен мех молоко, 33)]  \n",
       "207                                  [(домик в деревне, молоко домик в дер стер 3 2% 950гр х 18 000, 64)]  \n",
       "208                                                           [(домик в деревне, молоко с медом 0 3, 36)]  \n",
       "209                                                                            [(домик в деревне, Found)]  \n",
       "210  [(домик в деревне, сметаносодержащий продукт с зам мол жира домашняя буренка 15% 400 гр уценка, 22)]  "
      ]
     },
     "execution_count": 15,
     "metadata": {},
     "output_type": "execute_result"
    }
   ],
   "source": [
    "\n",
    "# функция ищет домик в деревне и ставит 0 или 1 если нашла или похожесть больше 55\n",
    "# функция для проверки строки\n",
    "def check_string(s):\n",
    "        # если слово не найдено, проверяем на опечатку\n",
    "        word = 'домик в деревне'\n",
    "        if word not in s:\n",
    "            # находим наиболее похожее слово\n",
    "            best_match = process.extractOne(word, [s])\n",
    "            # если наиболее похожее слово не найдено или его схожесть меньше 55, возвращаем 0\n",
    "            if best_match is None or fuzz.token_set_ratio(word, best_match[0]) < 55:\n",
    "                return 0\n",
    "        # если слово найдено, возвращаем 1\n",
    "        return 1\n",
    "\n",
    "# применяем функцию к каждой строке\n",
    "data.loc[data['check'] == 3, 'check'] = data['product_name'].apply(check_string)\n",
    "\n",
    "\n",
    "data.loc[203:210] #смотрим случайный срез"
   ]
  },
  {
   "cell_type": "markdown",
   "id": "4a0a9253",
   "metadata": {},
   "source": [
    "#### Изучим полученный результат от работы функций"
   ]
  },
  {
   "cell_type": "markdown",
   "id": "f49c7e81",
   "metadata": {},
   "source": [
    "Для выявления приемлемого уровня схожести изучим те строки, которым функциия не проставила check=1. С помощью экспериментов выявим приемлемый уровень - 55"
   ]
  },
  {
   "cell_type": "code",
   "execution_count": 16,
   "id": "0c4af07d",
   "metadata": {},
   "outputs": [
    {
     "data": {
      "text/html": [
       "<div>\n",
       "<style scoped>\n",
       "    .dataframe tbody tr th:only-of-type {\n",
       "        vertical-align: middle;\n",
       "    }\n",
       "\n",
       "    .dataframe tbody tr th {\n",
       "        vertical-align: top;\n",
       "    }\n",
       "\n",
       "    .dataframe thead th {\n",
       "        text-align: right;\n",
       "    }\n",
       "</style>\n",
       "<table border=\"1\" class=\"dataframe\">\n",
       "  <thead>\n",
       "    <tr style=\"text-align: right;\">\n",
       "      <th></th>\n",
       "      <th>brand</th>\n",
       "      <th>product_name</th>\n",
       "      <th>check</th>\n",
       "      <th>milk_distance</th>\n",
       "      <th>dom_distance</th>\n",
       "    </tr>\n",
       "  </thead>\n",
       "  <tbody>\n",
       "    <tr>\n",
       "      <th>1</th>\n",
       "      <td>moloko</td>\n",
       "      <td>молоко ультрапастериз 2 5% село домашкино 900г бзмж тфа</td>\n",
       "      <td>0</td>\n",
       "      <td>[(молоко, Found)]</td>\n",
       "      <td>[(домик в деревне, молоко ультрапастериз 2 5% село домашкино 900г бзмж тфа, 20)]</td>\n",
       "    </tr>\n",
       "    <tr>\n",
       "      <th>4</th>\n",
       "      <td>moloko</td>\n",
       "      <td>молоко домашенька 3 2% пэт 1 4л оао белореченское 2 000</td>\n",
       "      <td>0</td>\n",
       "      <td>[(молоко, Found)]</td>\n",
       "      <td>[(домик в деревне, молоко домашенька 3 2% пэт 1 4л оао белореченское 2 000, 33)]</td>\n",
       "    </tr>\n",
       "    <tr>\n",
       "      <th>6</th>\n",
       "      <td>moloko</td>\n",
       "      <td>молоко домашнее 1 5л осиповка</td>\n",
       "      <td>0</td>\n",
       "      <td>[(молоко, Found)]</td>\n",
       "      <td>[(домик в деревне, молоко домашнее 1 5л осиповка, 36)]</td>\n",
       "    </tr>\n",
       "    <tr>\n",
       "      <th>7</th>\n",
       "      <td>moloko</td>\n",
       "      <td>мол село домашкино бзмж ряженка 2 5% 900мл пэт бут 72197</td>\n",
       "      <td>0</td>\n",
       "      <td>[(молоко, мол, 100)]</td>\n",
       "      <td>[(домик в деревне, мол село домашкино бзмж ряженка 2 5% 900мл пэт бут 72197, 20)]</td>\n",
       "    </tr>\n",
       "    <tr>\n",
       "      <th>12</th>\n",
       "      <td>moloko</td>\n",
       "      <td>молоко 3 2% село домашкино 924гр</td>\n",
       "      <td>0</td>\n",
       "      <td>[(молоко, Found)]</td>\n",
       "      <td>[(домик в деревне, молоко 3 2% село домашкино 924гр, 35)]</td>\n",
       "    </tr>\n",
       "    <tr>\n",
       "      <th>...</th>\n",
       "      <td>...</td>\n",
       "      <td>...</td>\n",
       "      <td>...</td>\n",
       "      <td>...</td>\n",
       "      <td>...</td>\n",
       "    </tr>\n",
       "    <tr>\n",
       "      <th>4991</th>\n",
       "      <td>moloko</td>\n",
       "      <td>молокосодержащий продукт домашний топ молоко 45% россия кг</td>\n",
       "      <td>0</td>\n",
       "      <td>[(молоко, Found)]</td>\n",
       "      <td>[(домик в деревне, молокосодержащий продукт домашний топ молоко 45% россия кг, 22)]</td>\n",
       "    </tr>\n",
       "    <tr>\n",
       "      <th>4992</th>\n",
       "      <td>moloko</td>\n",
       "      <td>молоко молочный дом калужская зорька топленое 3 2 4% 900мл</td>\n",
       "      <td>0</td>\n",
       "      <td>[(молоко, Found)]</td>\n",
       "      <td>[(домик в деревне, молоко молочный дом калужская зорька топленое 3 2 4% 900мл, 17)]</td>\n",
       "    </tr>\n",
       "    <tr>\n",
       "      <th>4994</th>\n",
       "      <td>moloko</td>\n",
       "      <td>молоко ультрапаст топленое 4% село домашкино 900г</td>\n",
       "      <td>0</td>\n",
       "      <td>[(молоко, Found)]</td>\n",
       "      <td>[(домик в деревне, молоко ультрапаст топленое 4% село домашкино 900г, 22)]</td>\n",
       "    </tr>\n",
       "    <tr>\n",
       "      <th>4998</th>\n",
       "      <td>moloko</td>\n",
       "      <td>молоко сгущеное с шоколадом 270г см</td>\n",
       "      <td>0</td>\n",
       "      <td>[(молоко, Found)]</td>\n",
       "      <td>[(домик в деревне, молоко сгущеное с шоколадом 270г см, 32)]</td>\n",
       "    </tr>\n",
       "    <tr>\n",
       "      <th>4999</th>\n",
       "      <td>moloko</td>\n",
       "      <td>молоко коровье питьевое стер 2 5% 750мл 6 деревенский домик</td>\n",
       "      <td>0</td>\n",
       "      <td>[(молоко, Found)]</td>\n",
       "      <td>[(домик в деревне, молоко коровье питьевое стер 2 5% 750мл 6 деревенский домик, 50)]</td>\n",
       "    </tr>\n",
       "  </tbody>\n",
       "</table>\n",
       "<p>2609 rows × 5 columns</p>\n",
       "</div>"
      ],
      "text/plain": [
       "       brand                                                 product_name  \\\n",
       "1     moloko      молоко ультрапастериз 2 5% село домашкино 900г бзмж тфа   \n",
       "4     moloko      молоко домашенька 3 2% пэт 1 4л оао белореченское 2 000   \n",
       "6     moloko                                молоко домашнее 1 5л осиповка   \n",
       "7     moloko     мол село домашкино бзмж ряженка 2 5% 900мл пэт бут 72197   \n",
       "12    moloko                             молоко 3 2% село домашкино 924гр   \n",
       "...      ...                                                          ...   \n",
       "4991  moloko   молокосодержащий продукт домашний топ молоко 45% россия кг   \n",
       "4992  moloko   молоко молочный дом калужская зорька топленое 3 2 4% 900мл   \n",
       "4994  moloko            молоко ультрапаст топленое 4% село домашкино 900г   \n",
       "4998  moloko                          молоко сгущеное с шоколадом 270г см   \n",
       "4999  moloko  молоко коровье питьевое стер 2 5% 750мл 6 деревенский домик   \n",
       "\n",
       "      check         milk_distance  \\\n",
       "1         0     [(молоко, Found)]   \n",
       "4         0     [(молоко, Found)]   \n",
       "6         0     [(молоко, Found)]   \n",
       "7         0  [(молоко, мол, 100)]   \n",
       "12        0     [(молоко, Found)]   \n",
       "...     ...                   ...   \n",
       "4991      0     [(молоко, Found)]   \n",
       "4992      0     [(молоко, Found)]   \n",
       "4994      0     [(молоко, Found)]   \n",
       "4998      0     [(молоко, Found)]   \n",
       "4999      0     [(молоко, Found)]   \n",
       "\n",
       "                                                                              dom_distance  \n",
       "1         [(домик в деревне, молоко ультрапастериз 2 5% село домашкино 900г бзмж тфа, 20)]  \n",
       "4         [(домик в деревне, молоко домашенька 3 2% пэт 1 4л оао белореченское 2 000, 33)]  \n",
       "6                                   [(домик в деревне, молоко домашнее 1 5л осиповка, 36)]  \n",
       "7        [(домик в деревне, мол село домашкино бзмж ряженка 2 5% 900мл пэт бут 72197, 20)]  \n",
       "12                               [(домик в деревне, молоко 3 2% село домашкино 924гр, 35)]  \n",
       "...                                                                                    ...  \n",
       "4991   [(домик в деревне, молокосодержащий продукт домашний топ молоко 45% россия кг, 22)]  \n",
       "4992   [(домик в деревне, молоко молочный дом калужская зорька топленое 3 2 4% 900мл, 17)]  \n",
       "4994            [(домик в деревне, молоко ультрапаст топленое 4% село домашкино 900г, 22)]  \n",
       "4998                          [(домик в деревне, молоко сгущеное с шоколадом 270г см, 32)]  \n",
       "4999  [(домик в деревне, молоко коровье питьевое стер 2 5% 750мл 6 деревенский домик, 50)]  \n",
       "\n",
       "[2609 rows x 5 columns]"
      ]
     },
     "execution_count": 16,
     "metadata": {},
     "output_type": "execute_result"
    }
   ],
   "source": [
    "data.loc[data['check']!=1]"
   ]
  },
  {
   "cell_type": "markdown",
   "id": "97e81ef3",
   "metadata": {},
   "source": [
    "### Общие результаты "
   ]
  },
  {
   "cell_type": "markdown",
   "id": "70a0438d",
   "metadata": {},
   "source": [
    "Посмотрим, сколько всего значений в столбце check и все ли они были обработаны функциями"
   ]
  },
  {
   "cell_type": "code",
   "execution_count": 17,
   "id": "a58f17e8",
   "metadata": {
    "scrolled": true
   },
   "outputs": [
    {
     "name": "stdout",
     "output_type": "stream",
     "text": [
      "Всего строк в столбце check 5000\n"
     ]
    }
   ],
   "source": [
    "print('Всего строк в столбце check', len(data['check']))\n"
   ]
  },
  {
   "cell_type": "code",
   "execution_count": 18,
   "id": "53bbe345",
   "metadata": {},
   "outputs": [
    {
     "name": "stdout",
     "output_type": "stream",
     "text": [
      "При этом значения распределяются так 0:\n",
      "0    2609\n",
      "1    2391\n",
      "Name: check, dtype: int64\n"
     ]
    }
   ],
   "source": [
    "\n",
    "f = data['check'].value_counts()\n",
    "print(f\"При этом значения распределяются так 0:\\n{f}\")"
   ]
  },
  {
   "cell_type": "markdown",
   "id": "c90c6c7f",
   "metadata": {},
   "source": [
    "Представим графически распределение значений в check"
   ]
  },
  {
   "cell_type": "code",
   "execution_count": 19,
   "id": "a4b4c25b",
   "metadata": {
    "scrolled": true
   },
   "outputs": [
    {
     "data": {
      "text/plain": [
       "<AxesSubplot:title={'center':'Распределение значений'}>"
      ]
     },
     "execution_count": 19,
     "metadata": {},
     "output_type": "execute_result"
    },
    {
     "data": {
      "image/png": "[encoded data removed]",
      "text/plain": [
       "<Figure size 432x288 with 1 Axes>"
      ]
     },
     "metadata": {},
     "output_type": "display_data"
    }
   ],
   "source": [
    "f.plot.pie(title='Распределение значений', \n",
    "           labels = ['Иной товар', 'Молоко бренда домик в деревне'], \n",
    "           ylabel='',\n",
    "           autopct='%1.1f%%', \n",
    "           startangle=90)"
   ]
  },
  {
   "cell_type": "markdown",
   "id": "c99f96eb",
   "metadata": {},
   "source": [
    "Итого, мы видим что молоко бренда домик в деревне занимает примерно половину общего объема товаров, представленных в таблице. "
   ]
  },
  {
   "cell_type": "code",
   "execution_count": 20,
   "id": "776bba47",
   "metadata": {},
   "outputs": [],
   "source": [
    "#В случае, если нам нужна данная таблица в Экселе, сконвертируем ее и сохраним\n",
    "#data.to_excel('Тестовое задание ОФД.xlsx', index=False)"
   ]
  },
  {
   "cell_type": "code",
   "execution_count": null,
   "id": "95aa2dcb",
   "metadata": {},
   "outputs": [],
   "source": []
  }
 ],
 "metadata": {
  "kernelspec": {
   "display_name": "Python 3 (ipykernel)",
   "language": "python",
   "name": "python3"
  },
  "language_info": {
   "codemirror_mode": {
    "name": "ipython",
    "version": 3
   },
   "file_extension": ".py",
   "mimetype": "text/x-python",
   "name": "python",
   "nbconvert_exporter": "python",
   "pygments_lexer": "ipython3",
   "version": "3.9.12"
  },
  "toc": {
   "base_numbering": 1,
   "nav_menu": {},
   "number_sections": true,
   "sideBar": true,
   "skip_h1_title": true,
   "title_cell": "Table of Contents",
   "title_sidebar": "Contents",
   "toc_cell": true,
   "toc_position": {},
   "toc_section_display": true,
   "toc_window_display": false
  }
 },
 "nbformat": 4,
 "nbformat_minor": 5
}
